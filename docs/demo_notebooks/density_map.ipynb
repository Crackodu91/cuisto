{
 "cells": [
  {
   "cell_type": "markdown",
   "metadata": {},
   "source": [
    "Draw 2D heatmaps as density isolines.\n",
    "\n",
    "This notebook does not actually use `histoquant` and relies only on [brainglobe-heatmap](https://brainglobe.info/documentation/brainglobe-heatmap/index.html) to extract brain structures outlines.\n",
    "\n",
    "Only the detections measurements with atlas coordinates exported from QuPath are used.\n",
    "\n",
    "You need to select the range of data to be used, the regions outlines will be extracted at the centroid of that range. Therefore, a range that is too large will be misleading and irrelevant."
   ]
  },
  {
   "cell_type": "code",
   "execution_count": null,
   "metadata": {},
   "outputs": [],
   "source": [
    "import brainglobe_heatmap as bgh\n",
    "import matplotlib.pyplot as plt\n",
    "import numpy as np\n",
    "import pandas as pd\n",
    "import seaborn as sns"
   ]
  },
  {
   "cell_type": "code",
   "execution_count": null,
   "metadata": {},
   "outputs": [],
   "source": [
    "# path to the exported measurements from QuPath\n",
    "filename = \"../../resources/cells_measurements_detections.tsv\""
   ]
  },
  {
   "cell_type": "markdown",
   "metadata": {},
   "source": [
    "Settings"
   ]
  },
  {
   "cell_type": "code",
   "execution_count": null,
   "metadata": {},
   "outputs": [],
   "source": [
    "# atlas to use\n",
    "atlas_name = \"allen_mouse_10um\"\n",
    "# brain regions whose outlines will be plotted\n",
    "regions = [\"root\", \"CB\", \"MY\", \"GRN\", \"IRN\"]\n",
    "# range to include, in Allen coordinates, in microns\n",
    "ap_lims = [9800, 10000]  # lims : [0, 13200] for coronal\n",
    "ml_lims = [5600, 5800]  # lims : [0, 11400] for sagittal\n",
    "dv_lims = [3900, 4100]  # lims : [0, 8000] for top\n",
    "# number of isolines\n",
    "nlevels = 5\n",
    "# color mapping between classification and matplotlib color\n",
    "palette = {\"Cells: marker-\": \"#d8782f\", \"Cells: marker+\": \"#8ccb73\"}"
   ]
  },
  {
   "cell_type": "code",
   "execution_count": null,
   "metadata": {},
   "outputs": [],
   "source": [
    "df = pd.read_csv(filename, sep=\"\\t\")\n",
    "display(df.head())"
   ]
  },
  {
   "cell_type": "markdown",
   "metadata": {},
   "source": [
    "Here we can filter out classifications we don't wan't to display."
   ]
  },
  {
   "cell_type": "code",
   "execution_count": null,
   "metadata": {},
   "outputs": [],
   "source": [
    "# select objects\n",
    "# df = df[df[\"Classification\"] == \"example: classification\"]"
   ]
  },
  {
   "cell_type": "code",
   "execution_count": null,
   "metadata": {},
   "outputs": [],
   "source": [
    "# get outline coordinates in coronal (=frontal) orientation\n",
    "coords_coronal = bgh.get_structures_slice_coords(\n",
    "    regions,\n",
    "    orientation=\"frontal\",\n",
    "    atlas_name=atlas_name,\n",
    "    position=(np.mean(ap_lims), 0, 0),\n",
    ")\n",
    "# get outline coordinates in sagittal orientation\n",
    "coords_sagittal = bgh.get_structures_slice_coords(\n",
    "    regions,\n",
    "    orientation=\"sagittal\",\n",
    "    atlas_name=atlas_name,\n",
    "    position=(0, 0, np.mean(ml_lims)),\n",
    ")\n",
    "# get outline coordinates in top (=horizontal) orientation\n",
    "coords_top = bgh.get_structures_slice_coords(\n",
    "    regions,\n",
    "    orientation=\"horizontal\",\n",
    "    atlas_name=atlas_name,\n",
    "    position=(0, np.mean(dv_lims), 0),\n",
    ")"
   ]
  },
  {
   "cell_type": "code",
   "execution_count": null,
   "metadata": {},
   "outputs": [],
   "source": [
    "# Coronal projection\n",
    "# select objects within the rostro-caudal range\n",
    "df_coronal = df[\n",
    "    (df[\"Atlas_X\"] >= ap_lims[0] / 1000) & (df[\"Atlas_X\"] <= ap_lims[1] / 1000)\n",
    "]\n",
    "\n",
    "plt.figure()\n",
    "\n",
    "for struct_name, contours in coords_coronal.items():\n",
    "    for cont in contours:\n",
    "        plt.fill(cont[:, 0] / 1000, cont[:, 1] / 1000, lw=1, fc=\"none\", ec=\"k\")\n",
    "\n",
    "# see https://seaborn.pydata.org/generated/seaborn.kdeplot.html to customize\n",
    "ax = sns.kdeplot(\n",
    "    df_coronal,\n",
    "    x=\"Atlas_Z\",\n",
    "    y=\"Atlas_Y\",\n",
    "    hue=\"Classification\",\n",
    "    levels=nlevels,\n",
    "    common_norm=False,\n",
    "    palette=palette,\n",
    ")\n",
    "ax.invert_yaxis()\n",
    "sns.despine(left=True, bottom=True)\n",
    "plt.axis(\"equal\")\n",
    "plt.xlabel(None)\n",
    "plt.ylabel(None)\n",
    "plt.xticks([])\n",
    "plt.yticks([])\n",
    "plt.plot([2, 3], [8, 8], \"k\", linewidth=3)\n",
    "plt.text(2, 7.9, \"1 mm\")"
   ]
  },
  {
   "cell_type": "code",
   "execution_count": null,
   "metadata": {},
   "outputs": [],
   "source": [
    "# Sagittal projection\n",
    "# select objects within the medio-lateral range\n",
    "df_sagittal = df[\n",
    "    (df[\"Atlas_Z\"] >= ml_lims[0] / 1000) & (df[\"Atlas_Z\"] <= ml_lims[1] / 1000)\n",
    "]\n",
    "\n",
    "plt.figure()\n",
    "\n",
    "for struct_name, contours in coords_sagittal.items():\n",
    "    for cont in contours:\n",
    "        plt.fill(cont[:, 0] / 1000, cont[:, 1] / 1000, lw=1, fc=\"none\", ec=\"k\")\n",
    "\n",
    "# see https://seaborn.pydata.org/generated/seaborn.kdeplot.html to customize\n",
    "ax = sns.kdeplot(\n",
    "    df_sagittal,\n",
    "    x=\"Atlas_X\",\n",
    "    y=\"Atlas_Y\",\n",
    "    hue=\"Classification\",\n",
    "    levels=nlevels,\n",
    "    common_norm=False,\n",
    "    palette=palette,\n",
    ")\n",
    "ax.invert_yaxis()\n",
    "sns.despine(left=True, bottom=True)\n",
    "plt.axis(\"equal\")\n",
    "plt.xlabel(None)\n",
    "plt.ylabel(None)\n",
    "plt.xticks([])\n",
    "plt.yticks([])\n",
    "plt.plot([2, 3], [7.1, 7.1], \"k\", linewidth=3)\n",
    "plt.text(2, 7, \"1 mm\")"
   ]
  },
  {
   "cell_type": "code",
   "execution_count": null,
   "metadata": {},
   "outputs": [],
   "source": [
    "# Top projection\n",
    "# select objects within the dorso-ventral range\n",
    "df_top = df[(df[\"Atlas_Y\"] >= dv_lims[0] / 1000) & (df[\"Atlas_Y\"] <= dv_lims[1] / 1000)]\n",
    "\n",
    "plt.figure()\n",
    "\n",
    "for struct_name, contours in coords_top.items():\n",
    "    for cont in contours:\n",
    "        plt.fill(-cont[:, 0] / 1000, cont[:, 1] / 1000, lw=1, fc=\"none\", ec=\"k\")\n",
    "\n",
    "# see https://seaborn.pydata.org/generated/seaborn.kdeplot.html to customize\n",
    "ax = sns.kdeplot(\n",
    "    df_top,\n",
    "    x=\"Atlas_Z\",\n",
    "    y=\"Atlas_X\",\n",
    "    hue=\"Classification\",\n",
    "    levels=nlevels,\n",
    "    common_norm=False,\n",
    "    palette=palette,\n",
    ")\n",
    "ax.invert_yaxis()\n",
    "sns.despine(left=True, bottom=True)\n",
    "plt.axis(\"equal\")\n",
    "plt.xlabel(None)\n",
    "plt.ylabel(None)\n",
    "plt.xticks([])\n",
    "plt.yticks([])\n",
    "plt.plot([0.5, 1.5], [0.5, 0.5], \"k\", linewidth=3)\n",
    "plt.text(0.5, 0.4, \"1 mm\")"
   ]
  },
  {
   "cell_type": "code",
   "execution_count": null,
   "metadata": {},
   "outputs": [],
   "source": []
  }
 ],
 "metadata": {
  "kernelspec": {
   "display_name": "hq",
   "language": "python",
   "name": "python3"
  },
  "language_info": {
   "codemirror_mode": {
    "name": "ipython",
    "version": 3
   },
   "file_extension": ".py",
   "mimetype": "text/x-python",
   "name": "python",
   "nbconvert_exporter": "python",
   "pygments_lexer": "ipython3",
   "version": "3.12.7"
  }
 },
 "nbformat": 4,
 "nbformat_minor": 4
}
